{
 "cells": [
  {
   "cell_type": "markdown",
   "metadata": {},
   "source": [
    "## Imports"
   ]
  },
  {
   "cell_type": "code",
   "execution_count": 1,
   "metadata": {},
   "outputs": [],
   "source": [
    "#import necessary libraries \n",
    "import math\n",
    "import random\n",
    "import statistics \n",
    "import time\n",
    "from random import sample \n",
    "import numpy as np\n",
    "import seaborn as sns\n",
    "import matplotlib.pyplot as plt"
   ]
  },
  {
   "cell_type": "code",
   "execution_count": null,
   "metadata": {},
   "outputs": [],
   "source": [
    "### Initializations"
   ]
  },
  {
   "cell_type": "code",
   "execution_count": 2,
   "metadata": {},
   "outputs": [],
   "source": [
    "#no of samples\n",
    "n = 100000\n",
    "#no of servers\n",
    "N = 20\n",
    "#unit time\n",
    "T0 = 1\n",
    "#Mean of Y\n",
    "Y_mean = 10\n",
    "#probability\n",
    "q = 3/5\n",
    "#mean of T\n",
    "ET = T0 + (1-q)*Y_mean"
   ]
  },
  {
   "cell_type": "code",
   "execution_count": 3,
   "metadata": {},
   "outputs": [],
   "source": [
    "#Generating Random numbers for Simulations\n",
    "R1=[]\n",
    "R2=[]\n",
    "R3=[]\n",
    "#using function random.uniform \n",
    "for i in range(n):\n",
    "    R1.append(random.uniform(0,1))\n",
    "    R2.append(random.uniform(0,1))\n",
    "    R3.append(random.uniform(0,1))"
   ]
  },
  {
   "cell_type": "code",
   "execution_count": null,
   "metadata": {},
   "outputs": [],
   "source": [
    "### Generating Samples Inter Arrival Time and Service Times"
   ]
  },
  {
   "cell_type": "code",
   "execution_count": 4,
   "metadata": {},
   "outputs": [],
   "source": [
    "#Generating sample Inter Arrival Time\n",
    "T=[]\n",
    "for i in range(n):\n",
    "    if R1[i]<=q:\n",
    "        T.append(T0)\n",
    "    else:\n",
    "        T.append(round(T0-Y_mean*math.log(R2[i])))"
   ]
  },
  {
   "cell_type": "code",
   "execution_count": 5,
   "metadata": {},
   "outputs": [
    {
     "data": {
      "text/plain": [
       "4.9993"
      ]
     },
     "execution_count": 5,
     "metadata": {},
     "output_type": "execute_result"
    }
   ],
   "source": [
    "T[1:20]\n",
    "#Inter Arrival Time -Average\n",
    "sum(T)/len(T)"
   ]
  },
  {
   "cell_type": "code",
   "execution_count": 6,
   "metadata": {},
   "outputs": [],
   "source": [
    "#Generating Service Time\n",
    "EX = 99\n",
    "#μ=1/99 given\n",
    "alpha = 1/2\n",
    "beta = EX/math.gamma(1+(1/alpha))\n",
    "X = []\n",
    "for i in range(n):\n",
    "    X.append(max(1,min(100*EX,round(beta*(math.log(R3[i])**2)))))"
   ]
  },
  {
   "cell_type": "code",
   "execution_count": 7,
   "metadata": {},
   "outputs": [
    {
     "data": {
      "text/plain": [
       "98.94567"
      ]
     },
     "execution_count": 7,
     "metadata": {},
     "output_type": "execute_result"
    }
   ],
   "source": [
    "X[1:20]\n",
    "sum(X)/len(X)"
   ]
  },
  {
   "cell_type": "code",
   "execution_count": 8,
   "metadata": {},
   "outputs": [],
   "source": [
    "#function to generate service time based on different values of rho\n",
    "def generate_service_time():\n",
    "    RX = {}\n",
    "    for r in [round(item,2) for item in np.arange(0.8,0.99,0.02)]:\n",
    "        #rho = round(rho,2)\n",
    "        #R = [random.uniform(0,1) for r in range(n)]\n",
    "        EX = r*ET*N\n",
    "        beta = EX/math.gamma(1+(1/alpha))\n",
    "        Xs = []\n",
    "        for i in range(n):\n",
    "            Xs.append(max(1,min(100*EX,round(beta*(math.log(R3[i])**2)))))\n",
    "        RX[r]=Xs\n",
    "    \n",
    "    return RX"
   ]
  },
  {
   "cell_type": "code",
   "execution_count": 9,
   "metadata": {},
   "outputs": [
    {
     "data": {
      "text/plain": [
       "[0.8, 0.82, 0.84, 0.86, 0.88, 0.9, 0.92, 0.94, 0.96, 0.98]"
      ]
     },
     "execution_count": 9,
     "metadata": {},
     "output_type": "execute_result"
    }
   ],
   "source": [
    "#rhos\n",
    "rhos=[round(item,2) for item in np.arange(0.8,0.99,0.02)]\n",
    "rhos"
   ]
  },
  {
   "cell_type": "code",
   "execution_count": 10,
   "metadata": {},
   "outputs": [],
   "source": [
    "#Simulation \n",
    "#sample of Service Time for different rhos\n",
    "RX = generate_service_time()"
   ]
  },
  {
   "cell_type": "markdown",
   "metadata": {},
   "source": [
    "###  POD-3"
   ]
  },
  {
   "cell_type": "code",
   "execution_count": 12,
   "metadata": {},
   "outputs": [],
   "source": [
    "#Pod 3 method to select random server which has less queue\n",
    "def pod3():\n",
    "    s = sample(list(Server.keys()),3)\n",
    "    queue = [len(Server[k]) for k in s]\n",
    "    return s[queue.index(min(queue))]"
   ]
  },
  {
   "cell_type": "markdown",
   "metadata": {},
   "source": [
    "#### Simulation of Server's Queue update\n",
    "A method to maintain queues at server and process the tasks"
   ]
  },
  {
   "cell_type": "code",
   "execution_count": 11,
   "metadata": {},
   "outputs": [],
   "source": [
    "def update(i,t):\n",
    "    if len(Server[i])>=1:\n",
    "        index = Server[i][0]\n",
    "        if index >= t:\n",
    "            d = index-t\n",
    "            if d==0:\n",
    "                if len(Server[i])>1:\n",
    "                    Server[i]=Server[i][1:]\n",
    "                else:\n",
    "                    Server[i]=[]\n",
    "            else:\n",
    "                Server[i][0]=d\n",
    "        else:\n",
    "            t = t-index\n",
    "            if len(Server[i])>1:\n",
    "                Server[i]=Server[i][1:]\n",
    "                update(i,t)\n",
    "            else:\n",
    "                Server[i]=[]"
   ]
  },
  {
   "cell_type": "code",
   "execution_count": 14,
   "metadata": {},
   "outputs": [],
   "source": [
    "#Simulation of Pod-3\n",
    "#Dictionary to store Mean Delay\n",
    "Dp = {}\n",
    "for rho in rhos:\n",
    "    Xp = RX[rho]\n",
    "    #Initiate number of servers with Queues\n",
    "    Server = {}\n",
    "    for i in range(1,N+1):\n",
    "        Server[i]=[]\n",
    "    WT = [0]*n\n",
    "    wt=0\n",
    "    temp =n\n",
    "    j = 0\n",
    "    while temp!=0:\n",
    "        for i in range(1,N+1):\n",
    "            update(i,T[j])\n",
    "        s = pod3()\n",
    "        Server[s].append(Xp[j])\n",
    "        WT[j]= sum(Server[s])\n",
    "        j+=1\n",
    "        temp-=1\n",
    "    Dp[rho]= sum(WT)/j"
   ]
  },
  {
   "cell_type": "code",
   "execution_count": 15,
   "metadata": {},
   "outputs": [
    {
     "data": {
      "text/plain": [
       "{1: [11.0,\n",
       "  3.0,\n",
       "  76.0,\n",
       "  158.0,\n",
       "  60.0,\n",
       "  229.0,\n",
       "  35.0,\n",
       "  4.0,\n",
       "  85.0,\n",
       "  173.0,\n",
       "  62.0,\n",
       "  192.0,\n",
       "  25.0,\n",
       "  6.0,\n",
       "  15.0,\n",
       "  15.0],\n",
       " 2: [868.0, 19.0, 7.0, 5.0, 7.0, 89.0, 4.0, 1, 119.0, 1, 43.0, 1, 3.0],\n",
       " 3: [1.0, 141.0, 1, 298.0, 1, 1, 20.0, 32.0],\n",
       " 4: [20.0, 1, 3.0, 1, 5.0, 14.0, 6.0, 30.0, 1, 49.0, 18.0, 93.0, 3.0],\n",
       " 5: [390.0, 64.0, 57.0, 1, 6.0, 9.0, 9.0, 1, 2.0, 1, 13.0, 66.0, 147.0, 73.0],\n",
       " 6: [31.0, 55.0, 12.0, 275.0, 14.0, 1, 7.0, 383.0, 1, 63.0, 3.0],\n",
       " 7: [957.0,\n",
       "  76.0,\n",
       "  92.0,\n",
       "  7.0,\n",
       "  22.0,\n",
       "  107.0,\n",
       "  66.0,\n",
       "  10.0,\n",
       "  5.0,\n",
       "  2.0,\n",
       "  37.0,\n",
       "  3.0,\n",
       "  79.0],\n",
       " 8: [43.0,\n",
       "  32.0,\n",
       "  1,\n",
       "  379.0,\n",
       "  9.0,\n",
       "  4.0,\n",
       "  1,\n",
       "  5.0,\n",
       "  13.0,\n",
       "  73.0,\n",
       "  32.0,\n",
       "  173.0,\n",
       "  1,\n",
       "  1,\n",
       "  1801.0,\n",
       "  4.0,\n",
       "  40.0,\n",
       "  1],\n",
       " 9: [466.0, 1, 1, 2.0, 1, 34.0, 838.0, 27.0, 11.0, 10.0, 15.0, 130.0, 118.0],\n",
       " 10: [587.0, 56.0, 4.0, 1, 293.0, 24.0, 180.0, 22.0, 32.0, 319.0, 9.0],\n",
       " 11: [17.0, 93.0, 59.0, 71.0, 347.0, 97.0, 1, 24.0, 3.0, 37.0, 1, 184.0],\n",
       " 12: [134.0, 5.0, 362.0, 8.0, 45.0, 220.0, 29.0, 4.0, 28.0, 164.0, 40.0, 26.0],\n",
       " 13: [719.0, 1, 1, 11.0, 72.0, 143.0, 86.0, 49.0, 26.0, 1, 333.0, 158.0],\n",
       " 14: [39.0, 125.0, 98.0, 19.0, 97.0, 512.0, 155.0, 1, 10.0],\n",
       " 15: [1.0,\n",
       "  23.0,\n",
       "  10.0,\n",
       "  10.0,\n",
       "  5.0,\n",
       "  7.0,\n",
       "  15.0,\n",
       "  2.0,\n",
       "  40.0,\n",
       "  33.0,\n",
       "  36.0,\n",
       "  405.0,\n",
       "  36.0,\n",
       "  59.0,\n",
       "  1,\n",
       "  147.0,\n",
       "  4.0,\n",
       "  8.0,\n",
       "  1],\n",
       " 16: [910.0,\n",
       "  24.0,\n",
       "  39.0,\n",
       "  10.0,\n",
       "  3.0,\n",
       "  1,\n",
       "  22.0,\n",
       "  3.0,\n",
       "  143.0,\n",
       "  3.0,\n",
       "  63.0,\n",
       "  1,\n",
       "  167.0,\n",
       "  67.0,\n",
       "  885.0],\n",
       " 17: [528.0, 39.0, 137.0, 39.0, 41.0, 1, 283.0, 3.0],\n",
       " 18: [164.0, 61.0, 1, 1, 14.0, 3.0, 2.0, 55.0, 1, 10.0, 2.0, 6.0, 193.0],\n",
       " 19: [165.0,\n",
       "  8.0,\n",
       "  30.0,\n",
       "  82.0,\n",
       "  35.0,\n",
       "  1,\n",
       "  135.0,\n",
       "  1,\n",
       "  14.0,\n",
       "  46.0,\n",
       "  151.0,\n",
       "  61.0,\n",
       "  1,\n",
       "  10.0],\n",
       " 20: [185.0,\n",
       "  343.0,\n",
       "  90.0,\n",
       "  517.0,\n",
       "  62.0,\n",
       "  17.0,\n",
       "  4.0,\n",
       "  2.0,\n",
       "  39.0,\n",
       "  150.0,\n",
       "  3.0,\n",
       "  61.0,\n",
       "  29.0]}"
      ]
     },
     "execution_count": 15,
     "metadata": {},
     "output_type": "execute_result"
    }
   ],
   "source": [
    "#sample output of the Server at the end of the task\n",
    "Server"
   ]
  },
  {
   "cell_type": "code",
   "execution_count": 16,
   "metadata": {},
   "outputs": [
    {
     "data": {
      "text/plain": [
       "{0.8: 234.28558,\n",
       " 0.82: 260.84882,\n",
       " 0.84: 292.8601,\n",
       " 0.86: 339.03526,\n",
       " 0.88: 391.23629,\n",
       " 0.9: 481.56804,\n",
       " 0.92: 633.24694,\n",
       " 0.94: 862.68912,\n",
       " 0.96: 1318.93339,\n",
       " 0.98: 2306.71723}"
      ]
     },
     "execution_count": 16,
     "metadata": {},
     "output_type": "execute_result"
    }
   ],
   "source": [
    "#Mean Delay of Pod\n",
    "Dp"
   ]
  },
  {
   "cell_type": "markdown",
   "metadata": {},
   "source": [
    "### JSQ"
   ]
  },
  {
   "cell_type": "code",
   "execution_count": 17,
   "metadata": {},
   "outputs": [],
   "source": [
    "#a method to find shortest queue server and returns it\n",
    "def JSQ():\n",
    "    queue = [len(Server[k]) for k in range(1,N+1)]\n",
    "    result = [i+1 for i,x in enumerate(queue) if x==min(queue)]\n",
    "    #print(result)\n",
    "    return sample(result,1)[0]"
   ]
  },
  {
   "cell_type": "code",
   "execution_count": 18,
   "metadata": {},
   "outputs": [],
   "source": [
    "#to store delay\n",
    "Ds={}\n",
    "for rho in rhos:\n",
    "    Xs = RX[rho]\n",
    "    #Initiate number of servers with Queues\n",
    "    Server = {}\n",
    "    for i in range(1,N+1):\n",
    "        Server[i]=[]\n",
    "    WT = [0]*n\n",
    "    temp =n\n",
    "    j = 0\n",
    "    while temp!=0:\n",
    "        for i in range(1,N+1):\n",
    "            update(i,T[j])\n",
    "        s = JSQ()\n",
    "        Server[s].append(Xs[j])\n",
    "        WT[j]= sum(Server[s])\n",
    "        j+=1\n",
    "        temp-=1\n",
    "    Ds[rho]= sum(WT)/j"
   ]
  },
  {
   "cell_type": "code",
   "execution_count": 19,
   "metadata": {},
   "outputs": [
    {
     "data": {
      "text/plain": [
       "{1: [87.0, 19.0, 3.0, 1, 275.0, 98.0, 1, 2.0],\n",
       " 2: [285.0, 9.0, 66.0, 5.0, 14.0, 164.0, 66.0, 155.0, 158.0],\n",
       " 3: [171.0, 1, 37.0, 143.0, 2.0, 4.0, 1],\n",
       " 4: [12.0,\n",
       "  1,\n",
       "  84.0,\n",
       "  452.0,\n",
       "  77.0,\n",
       "  4.0,\n",
       "  1,\n",
       "  115.0,\n",
       "  17.0,\n",
       "  293.0,\n",
       "  217.0,\n",
       "  86.0,\n",
       "  18.0,\n",
       "  62.0,\n",
       "  1],\n",
       " 5: [18.0, 29.0, 1, 41.0, 1, 40.0, 10.0],\n",
       " 6: [388.0, 15.0, 71.0, 86.0, 590.0, 49.0, 79.0, 319.0, 333.0],\n",
       " 7: [38.0, 15.0, 24.0, 1, 51.0, 305.0, 1, 62.0, 932.0, 107.0],\n",
       " 8: [35.0, 2.0, 1, 220.0, 130.0, 3.0, 10.0],\n",
       " 9: [17.0, 798.0, 1, 30.0, 25.0, 1, 4.0, 141.0, 5.0, 7.0, 4.0],\n",
       " 10: [55.0, 31.0, 46.0, 3.0, 1, 9.0, 3.0],\n",
       " 11: [140.0, 5.0, 103.0, 1, 272.0, 21.0, 192.0, 20.0, 6.0, 135.0, 3.0, 714.0],\n",
       " 12: [238.0, 97.0, 8.0, 1, 28.0, 118.0, 63.0, 32.0, 73.0],\n",
       " 13: [928.0, 35.0, 4.0, 10.0, 48.0, 119.0, 22.0, 885.0, 6.0, 57.0],\n",
       " 14: [1358.0,\n",
       "  1,\n",
       "  3.0,\n",
       "  41.0,\n",
       "  838.0,\n",
       "  17.0,\n",
       "  8.0,\n",
       "  16.0,\n",
       "  110.0,\n",
       "  15.0,\n",
       "  1,\n",
       "  97.0,\n",
       "  3.0,\n",
       "  39.0],\n",
       " 15: [7.0, 1, 11.0, 2.0, 3.0, 39.0, 3.0, 26.0],\n",
       " 16: [54.0, 693.0, 4.0, 9.0, 137.0, 383.0, 13.0, 283.0],\n",
       " 17: [120.0, 49.0, 19.0, 23.0, 4.0, 187.0, 332.0, 11.0, 3.0, 1, 11.0],\n",
       " 18: [233.0, 72.0, 1, 26.0, 184.0, 1, 39.0, 20.0],\n",
       " 19: [5.0, 1, 36.0, 1, 3.0, 97.0, 55.0, 147.0],\n",
       " 20: [445.0, 298.0, 9.0, 1, 40.0, 61.0, 1, 93.0, 7.0]}"
      ]
     },
     "execution_count": 19,
     "metadata": {},
     "output_type": "execute_result"
    }
   ],
   "source": [
    "#a sample output of server at end of tasks\n",
    "Server"
   ]
  },
  {
   "cell_type": "code",
   "execution_count": 20,
   "metadata": {},
   "outputs": [
    {
     "data": {
      "text/plain": [
       "{0.8: 137.40582,\n",
       " 0.82: 152.15491,\n",
       " 0.84: 173.8015,\n",
       " 0.86: 199.02448,\n",
       " 0.88: 235.70369,\n",
       " 0.9: 306.85382,\n",
       " 0.92: 447.96221,\n",
       " 0.94: 668.42936,\n",
       " 0.96: 1087.33949,\n",
       " 0.98: 2095.48296}"
      ]
     },
     "execution_count": 20,
     "metadata": {},
     "output_type": "execute_result"
    }
   ],
   "source": [
    "#mean delay of JSQ\n",
    "Ds"
   ]
  },
  {
   "cell_type": "markdown",
   "metadata": {},
   "source": [
    "### JBT-d"
   ]
  },
  {
   "cell_type": "code",
   "execution_count": 12,
   "metadata": {},
   "outputs": [],
   "source": [
    "#to keep track of threshold of each servers\n",
    "table = [1]*N\n",
    "#threshold\n",
    "d=3\n",
    "#method to select server based on threshold randomly\n",
    "def JBTd():\n",
    "    result = [i+1 for i,x in enumerate(table) if x==1]\n",
    "    \n",
    "    if len(result)==0:\n",
    "        return sample(Server.keys(),1)[0]\n",
    "    elif len(result)==1:\n",
    "        return result[0]\n",
    "    else:\n",
    "        return sample(result,1)[0]"
   ]
  },
  {
   "cell_type": "code",
   "execution_count": 13,
   "metadata": {},
   "outputs": [],
   "source": [
    "#calculating message send by server and server updating load balancer\n",
    "def server_update(m):\n",
    "    for i in range(1,N+1):\n",
    "        if (len(Server[i])>d):\n",
    "            table[i-1]=0\n",
    "        elif (len(Server[i])<d):\n",
    "            table[i-1]=1\n",
    "            M[m]+=1\n",
    "        else:\n",
    "            pass"
   ]
  },
  {
   "cell_type": "code",
   "execution_count": 14,
   "metadata": {},
   "outputs": [],
   "source": [
    "#to store delay\n",
    "Db={}\n",
    "#to store message overhead\n",
    "Mb={}\n",
    "for rho in rhos:\n",
    "    Xb = RX[rho]\n",
    "    #Initiate number of servers with Queues\n",
    "    Server = {}\n",
    "    for i in range(1,N+1):\n",
    "        Server[i]=[]\n",
    "    WT = [0]*n\n",
    "    M = [0]*n\n",
    "    temp =n\n",
    "    j = 0\n",
    "    while temp!=0:\n",
    "        for i in range(1,N+1):\n",
    "            update(i,T[j])\n",
    "        s = JBTd()\n",
    "        Server[s].append(Xb[j])\n",
    "        server_update(j)\n",
    "        WT[j]= sum(Server[s])\n",
    "        j+=1\n",
    "        temp-=1\n",
    "    Db[rho]= sum(WT)/j\n",
    "    Mb[rho]=sum(M)/j"
   ]
  },
  {
   "cell_type": "code",
   "execution_count": 33,
   "metadata": {},
   "outputs": [
    {
     "data": {
      "text/plain": [
       "[0, 0, 0, 0, 0, 0, 0, 0, 0, 0, 0, 0, 0, 0, 0, 0, 0, 0, 0, 0]"
      ]
     },
     "execution_count": 33,
     "metadata": {},
     "output_type": "execute_result"
    }
   ],
   "source": [
    "#table like structure at load balancer\n",
    "table"
   ]
  },
  {
   "cell_type": "code",
   "execution_count": 25,
   "metadata": {},
   "outputs": [
    {
     "data": {
      "text/plain": [
       "{1: [83.0,\n",
       "  10.0,\n",
       "  166.0,\n",
       "  1,\n",
       "  26.0,\n",
       "  19.0,\n",
       "  9.0,\n",
       "  1,\n",
       "  176.0,\n",
       "  9.0,\n",
       "  74.0,\n",
       "  11.0,\n",
       "  1,\n",
       "  20.0,\n",
       "  7.0,\n",
       "  77.0,\n",
       "  4.0,\n",
       "  5.0,\n",
       "  103.0,\n",
       "  23.0,\n",
       "  71.0,\n",
       "  1,\n",
       "  2.0,\n",
       "  1,\n",
       "  88.0,\n",
       "  1,\n",
       "  19.0,\n",
       "  3.0,\n",
       "  12.0,\n",
       "  1,\n",
       "  33.0,\n",
       "  5.0,\n",
       "  255.0,\n",
       "  4.0,\n",
       "  1,\n",
       "  15.0,\n",
       "  5.0,\n",
       "  28.0,\n",
       "  9.0,\n",
       "  16.0,\n",
       "  4.0,\n",
       "  1,\n",
       "  13.0,\n",
       "  1,\n",
       "  35.0,\n",
       "  3.0,\n",
       "  1,\n",
       "  1,\n",
       "  15.0,\n",
       "  89.0,\n",
       "  3.0,\n",
       "  1,\n",
       "  4.0,\n",
       "  1,\n",
       "  1292.0,\n",
       "  16.0,\n",
       "  444.0,\n",
       "  1,\n",
       "  106.0,\n",
       "  3.0,\n",
       "  167.0,\n",
       "  1,\n",
       "  1,\n",
       "  1,\n",
       "  1,\n",
       "  84.0,\n",
       "  10.0,\n",
       "  13.0,\n",
       "  59.0,\n",
       "  48.0,\n",
       "  11.0,\n",
       "  109.0,\n",
       "  16.0,\n",
       "  27.0,\n",
       "  2.0,\n",
       "  1,\n",
       "  3.0,\n",
       "  714.0,\n",
       "  1,\n",
       "  141.0,\n",
       "  28.0,\n",
       "  333.0,\n",
       "  3.0],\n",
       " 2: [1, 155.0],\n",
       " 3: [153.0, 8.0, 110.0, 229.0, 3.0, 242.0, 92.0, 1, 2.0, 66.0, 32.0],\n",
       " 4: [13.0, 1, 1, 9.0, 41.0, 73.0],\n",
       " 5: [143.0, 118.0, 1],\n",
       " 6: [16.0, 8.0, 6.0, 12.0],\n",
       " 7: [23.0, 2.0, 11.0, 1, 383.0],\n",
       " 8: [8.0,\n",
       "  10.0,\n",
       "  13.0,\n",
       "  1,\n",
       "  283.0,\n",
       "  31.0,\n",
       "  109.0,\n",
       "  60.0,\n",
       "  46.0,\n",
       "  3.0,\n",
       "  5.0,\n",
       "  1,\n",
       "  64.0,\n",
       "  9.0,\n",
       "  12.0,\n",
       "  3.0,\n",
       "  6.0,\n",
       "  1,\n",
       "  147.0,\n",
       "  40.0],\n",
       " 9: [20.0, 150.0, 8.0, 3.0, 164.0, 13.0],\n",
       " 10: [58.0, 9.0, 1, 4.0, 48.0, 130.0, 7.0, 26.0, 32.0, 184.0, 3.0],\n",
       " 11: [1708.0,\n",
       "  97.0,\n",
       "  838.0,\n",
       "  17.0,\n",
       "  145.0,\n",
       "  52.0,\n",
       "  348.0,\n",
       "  31.0,\n",
       "  14.0,\n",
       "  177.0,\n",
       "  82.0,\n",
       "  9.0,\n",
       "  9.0,\n",
       "  4.0,\n",
       "  8.0,\n",
       "  7.0,\n",
       "  885.0,\n",
       "  39.0,\n",
       "  79.0],\n",
       " 12: [7.0, 26.0],\n",
       " 13: [627.0, 1, 1, 55.0, 2.0, 15.0, 61.0],\n",
       " 14: [49.0,\n",
       "  66.0,\n",
       "  587.0,\n",
       "  1,\n",
       "  217.0,\n",
       "  550.0,\n",
       "  126.0,\n",
       "  24.0,\n",
       "  113.0,\n",
       "  1,\n",
       "  1,\n",
       "  4.0,\n",
       "  86.0,\n",
       "  11.0,\n",
       "  1,\n",
       "  1,\n",
       "  100.0,\n",
       "  1,\n",
       "  11.0,\n",
       "  1,\n",
       "  3.0,\n",
       "  24.0,\n",
       "  1,\n",
       "  2.0,\n",
       "  60.0,\n",
       "  17.0,\n",
       "  293.0,\n",
       "  86.0,\n",
       "  144.0,\n",
       "  6.0,\n",
       "  29.0,\n",
       "  1],\n",
       " 15: [116.0,\n",
       "  132.0,\n",
       "  2.0,\n",
       "  43.0,\n",
       "  517.0,\n",
       "  13.0,\n",
       "  3.0,\n",
       "  73.0,\n",
       "  1,\n",
       "  21.0,\n",
       "  6.0,\n",
       "  74.0,\n",
       "  61.0,\n",
       "  1,\n",
       "  1,\n",
       "  29.0,\n",
       "  75.0,\n",
       "  46.0,\n",
       "  1,\n",
       "  5.0,\n",
       "  93.0,\n",
       "  80.0,\n",
       "  51.0,\n",
       "  36.0,\n",
       "  63.0,\n",
       "  76.0,\n",
       "  115.0,\n",
       "  96.0,\n",
       "  7.0,\n",
       "  217.0,\n",
       "  69.0,\n",
       "  2.0,\n",
       "  69.0,\n",
       "  10.0,\n",
       "  4.0,\n",
       "  1,\n",
       "  7.0,\n",
       "  43.0,\n",
       "  107.0,\n",
       "  1,\n",
       "  14.0,\n",
       "  39.0,\n",
       "  63.0,\n",
       "  20.0],\n",
       " 16: [16.0,\n",
       "  74.0,\n",
       "  492.0,\n",
       "  10.0,\n",
       "  4.0,\n",
       "  66.0,\n",
       "  24.0,\n",
       "  235.0,\n",
       "  310.0,\n",
       "  3.0,\n",
       "  1,\n",
       "  14.0,\n",
       "  113.0,\n",
       "  13.0,\n",
       "  35.0,\n",
       "  34.0,\n",
       "  561.0,\n",
       "  1,\n",
       "  8.0,\n",
       "  167.0,\n",
       "  42.0,\n",
       "  1,\n",
       "  61.0,\n",
       "  1,\n",
       "  1,\n",
       "  192.0,\n",
       "  31.0,\n",
       "  3.0,\n",
       "  46.0,\n",
       "  1,\n",
       "  39.0,\n",
       "  1],\n",
       " 17: [8.0, 5.0, 10.0],\n",
       " 18: [443.0, 298.0, 9.0, 1, 71.0, 29.0, 283.0],\n",
       " 19: [221.0,\n",
       "  1206.0,\n",
       "  61.0,\n",
       "  36.0,\n",
       "  143.0,\n",
       "  1,\n",
       "  143.0,\n",
       "  2.0,\n",
       "  306.0,\n",
       "  19.0,\n",
       "  1,\n",
       "  27.0,\n",
       "  2.0,\n",
       "  54.0,\n",
       "  3.0,\n",
       "  3.0,\n",
       "  549.0,\n",
       "  1,\n",
       "  517.0,\n",
       "  33.0,\n",
       "  9.0,\n",
       "  1,\n",
       "  34.0,\n",
       "  1,\n",
       "  85.0,\n",
       "  8.0,\n",
       "  21.0,\n",
       "  9.0,\n",
       "  1,\n",
       "  18.0,\n",
       "  20.0,\n",
       "  15.0,\n",
       "  319.0,\n",
       "  158.0],\n",
       " 20: [492.0, 86.0, 590.0, 137.0]}"
      ]
     },
     "execution_count": 25,
     "metadata": {},
     "output_type": "execute_result"
    }
   ],
   "source": [
    "#sample Server status at end of the tasks\n",
    "Server"
   ]
  },
  {
   "cell_type": "code",
   "execution_count": 26,
   "metadata": {},
   "outputs": [
    {
     "data": {
      "text/plain": [
       "{0.8: 256.92095,\n",
       " 0.82: 276.64718,\n",
       " 0.84: 299.49027,\n",
       " 0.86: 327.51501,\n",
       " 0.88: 375.64593,\n",
       " 0.9: 457.73333,\n",
       " 0.92: 595.21725,\n",
       " 0.94: 831.4115,\n",
       " 0.96: 1268.32321,\n",
       " 0.98: 2324.46905}"
      ]
     },
     "execution_count": 26,
     "metadata": {},
     "output_type": "execute_result"
    }
   ],
   "source": [
    "#delay of JBT-d\n",
    "Db"
   ]
  },
  {
   "cell_type": "code",
   "execution_count": 15,
   "metadata": {},
   "outputs": [
    {
     "data": {
      "text/plain": [
       "{0.8: 8.52779,\n",
       " 0.82: 7.90911,\n",
       " 0.84: 7.25422,\n",
       " 0.86: 6.50981,\n",
       " 0.88: 5.79359,\n",
       " 0.9: 5.02589,\n",
       " 0.92: 4.15908,\n",
       " 0.94: 3.3427,\n",
       " 0.96: 2.40054,\n",
       " 0.98: 1.45209}"
      ]
     },
     "execution_count": 15,
     "metadata": {},
     "output_type": "execute_result"
    }
   ],
   "source": [
    "#Average Message per task of JBT-d\n",
    "Mb"
   ]
  },
  {
   "cell_type": "markdown",
   "metadata": {},
   "source": [
    "### JOIN SHORTEST WAITING TIME QUEUE\n",
    "#### NEW ALGORITHM"
   ]
  },
  {
   "cell_type": "markdown",
   "metadata": {},
   "source": [
    "Below is the Slight Modified Algorithm of JSQ & JBTd.\n",
    "In which the server maintains table of one bits reference to the server which has the lowest service time of waiting task+current running tasks.\n",
    "The message overhead of this algorithm is 2N per task (N is number of server)."
   ]
  },
  {
   "cell_type": "code",
   "execution_count": 28,
   "metadata": {},
   "outputs": [],
   "source": [
    "#table to maintain minimum waiting time server\n",
    "waitable = [1]*N"
   ]
  },
  {
   "cell_type": "code",
   "execution_count": 29,
   "metadata": {},
   "outputs": [],
   "source": [
    "#method of new algorithm which select server which is having min waiting time\n",
    "def JSWTQ():\n",
    "    result = [i+1 for i,x in enumerate(waitable) if x==1]\n",
    "    if len(result)==0:\n",
    "        return sample(Server.keys(),1)[0]\n",
    "    elif len(result)==1:\n",
    "        return result[0]\n",
    "    else:\n",
    "        return sample(result,1)[0]"
   ]
  },
  {
   "cell_type": "code",
   "execution_count": 30,
   "metadata": {},
   "outputs": [],
   "source": [
    "#resetting table at dispatcher\n",
    "def JSWTQ_update():\n",
    "    queue = [sum(Server[k]) for k in range(1,N+1)]\n",
    "    result = [i for i,x in enumerate(queue) if x==min(queue)]\n",
    "    for i in range(0,N):\n",
    "        if i in result:\n",
    "            waitable[i]=1\n",
    "        else:\n",
    "            waitable[i]=0"
   ]
  },
  {
   "cell_type": "code",
   "execution_count": 31,
   "metadata": {},
   "outputs": [],
   "source": [
    "#stores the delay\n",
    "Dj={}\n",
    "for rho in rhos:\n",
    "    Xb = RX[rho]\n",
    "    #Initiate number of servers with Queues\n",
    "    Server = {}\n",
    "    for i in range(1,N+1):\n",
    "        Server[i]=[]\n",
    "    WT = [0]*n\n",
    "    temp =n\n",
    "    j = 0\n",
    "    while temp!=0:\n",
    "        for i in range(1,N+1):\n",
    "            update(i,T[j])\n",
    "        s = JSWTQ()\n",
    "        Server[s].append(Xb[j])\n",
    "        JSWTQ_update()\n",
    "        WT[j]= sum(Server[s])\n",
    "        j+=1\n",
    "        temp-=1\n",
    "    Dj[rho]= sum(WT)/j"
   ]
  },
  {
   "cell_type": "code",
   "execution_count": 32,
   "metadata": {},
   "outputs": [
    {
     "data": {
      "text/plain": [
       "[0, 0, 0, 0, 0, 0, 0, 0, 0, 1, 0, 0, 0, 0, 0, 0, 0, 0, 0, 0]"
      ]
     },
     "execution_count": 32,
     "metadata": {},
     "output_type": "execute_result"
    }
   ],
   "source": [
    "waitable"
   ]
  },
  {
   "cell_type": "code",
   "execution_count": 33,
   "metadata": {},
   "outputs": [
    {
     "data": {
      "text/plain": [
       "{1: [855.0],\n",
       " 2: [18.0,\n",
       "  6.0,\n",
       "  3.0,\n",
       "  97.0,\n",
       "  46.0,\n",
       "  29.0,\n",
       "  1,\n",
       "  22.0,\n",
       "  1,\n",
       "  9.0,\n",
       "  8.0,\n",
       "  12.0,\n",
       "  55.0,\n",
       "  6.0,\n",
       "  40.0,\n",
       "  9.0,\n",
       "  40.0,\n",
       "  2.0,\n",
       "  97.0,\n",
       "  86.0,\n",
       "  184.0],\n",
       " 3: [415.0, 72.0, 29.0, 49.0, 28.0, 118.0, 1, 10.0, 73.0],\n",
       " 4: [270.0, 13.0, 2.0, 35.0, 18.0, 298.0, 63.0, 32.0, 158.0],\n",
       " 5: [179.0, 1, 57.0, 66.0, 66.0, 61.0, 22.0, 15.0, 71.0, 7.0, 39.0, 383.0],\n",
       " 6: [6.0, 1, 35.0, 25.0, 1394.0],\n",
       " 7: [103.0, 11.0, 2.0, 3.0, 7.0, 714.0],\n",
       " 8: [222.0, 57.0, 1, 3.0, 27.0, 15.0, 61.0, 1, 5.0, 206.0, 79.0, 66.0, 283.0],\n",
       " 9: [151.0, 151.0, 8.0, 1, 49.0, 1, 193.0, 26.0, 137.0, 147.0],\n",
       " 10: [34.0, 43.0, 76.0, 1, 43.0, 7.0, 14.0, 1, 31.0, 150.0, 1, 362.0],\n",
       " 11: [47.0,\n",
       "  4.0,\n",
       "  11.0,\n",
       "  3.0,\n",
       "  89.0,\n",
       "  1,\n",
       "  92.0,\n",
       "  55.0,\n",
       "  6.0,\n",
       "  14.0,\n",
       "  328.0,\n",
       "  29.0,\n",
       "  333.0],\n",
       " 12: [35.0, 1, 135.0, 64.0, 6.0, 42.0, 2.0, 125.0, 8.0, 93.0, 590.0],\n",
       " 13: [523.0, 1, 1, 4.0, 130.0, 319.0],\n",
       " 14: [202.0,\n",
       "  9.0,\n",
       "  1,\n",
       "  6.0,\n",
       "  55.0,\n",
       "  10.0,\n",
       "  20.0,\n",
       "  3.0,\n",
       "  1,\n",
       "  1,\n",
       "  275.0,\n",
       "  164.0,\n",
       "  1,\n",
       "  3.0,\n",
       "  10.0,\n",
       "  26.0],\n",
       " 15: [46.0,\n",
       "  1,\n",
       "  141.0,\n",
       "  5.0,\n",
       "  5.0,\n",
       "  39.0,\n",
       "  30.0,\n",
       "  9.0,\n",
       "  12.0,\n",
       "  141.0,\n",
       "  143.0,\n",
       "  32.0,\n",
       "  13.0,\n",
       "  1,\n",
       "  39.0,\n",
       "  1,\n",
       "  20.0,\n",
       "  9.0,\n",
       "  41.0,\n",
       "  40.0],\n",
       " 16: [82.0, 1, 34.0, 10.0, 4.0, 1, 14.0, 119.0, 1, 47.0, 3.0, 7.0, 2.0, 903.0],\n",
       " 17: [56.0, 55.0, 4.0, 1, 14.0, 1, 5.0, 48.0, 1, 18.0, 2.0, 1, 885.0],\n",
       " 18: [42.0, 31.0, 5.0, 35.0, 88.0, 107.0, 98.0, 2.0, 1, 37.0, 3.0, 512.0],\n",
       " 19: [13.0,\n",
       "  20.0,\n",
       "  335.0,\n",
       "  5.0,\n",
       "  10.0,\n",
       "  1,\n",
       "  19.0,\n",
       "  11.0,\n",
       "  45.0,\n",
       "  2.0,\n",
       "  220.0,\n",
       "  3.0,\n",
       "  3.0,\n",
       "  155.0],\n",
       " 20: [1081.0]}"
      ]
     },
     "execution_count": 33,
     "metadata": {},
     "output_type": "execute_result"
    }
   ],
   "source": [
    "#sample output of server at end of the tasks\n",
    "Server"
   ]
  },
  {
   "cell_type": "code",
   "execution_count": 34,
   "metadata": {},
   "outputs": [
    {
     "data": {
      "text/plain": [
       "{0.8: 107.42332,\n",
       " 0.82: 118.54701,\n",
       " 0.84: 133.83459,\n",
       " 0.86: 154.05887,\n",
       " 0.88: 183.78444,\n",
       " 0.9: 249.79061,\n",
       " 0.92: 386.02508,\n",
       " 0.94: 611.73513,\n",
       " 0.96: 1026.54274,\n",
       " 0.98: 2055.00524}"
      ]
     },
     "execution_count": 34,
     "metadata": {},
     "output_type": "execute_result"
    }
   ],
   "source": [
    "#delay of new algorithm\n",
    "Dj"
   ]
  },
  {
   "cell_type": "markdown",
   "metadata": {},
   "source": [
    "### Plotting Graphs"
   ]
  },
  {
   "cell_type": "markdown",
   "metadata": {},
   "source": [
    "Mean Delay of the algorithms for each rho values that we have calculated"
   ]
  },
  {
   "cell_type": "code",
   "execution_count": 29,
   "metadata": {},
   "outputs": [
    {
     "data": {
      "image/png": "[encoded data removed]",
      "text/plain": [
       "<Figure size 720x360 with 1 Axes>"
      ]
     },
     "metadata": {},
     "output_type": "display_data"
    }
   ],
   "source": [
    "#plotting Graphs\n",
    "sns.set_style(\"darkgrid\")\n",
    "plt.figure(figsize=(10,5))\n",
    "\n",
    "listPOD = sorted(Dp.items())\n",
    "xPOD, yPOD = zip(*listPOD) \n",
    "plt.plot(xPOD, yPOD, label = \"POD\", marker='D', ls='--', ms=4.5)\n",
    "\n",
    "listJSQ = sorted(Ds.items())\n",
    "xJSQ, yJSQ = zip(*listJSQ)\n",
    "plt.plot(xJSQ, yJSQ, label = \"JSQ\", marker='o', ls='--', ms=4.5)\n",
    "\n",
    "listJBT = sorted(Db.items())\n",
    "xJBT, yJBT = zip(*listJBT)\n",
    "plt.plot(xJBT, yJBT, label = \"JBT-3\", marker='*', ls='--', ms=3.5)\n",
    "\n",
    "plt.xlabel(\"\\u03C1\")\n",
    "plt.ylabel(\"E[D]\")\n",
    "plt.title(\"Mean Delay\")\n",
    "plt.legend()\n",
    "plt.show()"
   ]
  },
  {
   "cell_type": "markdown",
   "metadata": {},
   "source": [
    "Message OverHeads Calculation Based on Formulae "
   ]
  },
  {
   "cell_type": "code",
   "execution_count": 39,
   "metadata": {},
   "outputs": [
    {
     "data": {
      "text/plain": [
       "<matplotlib.legend.Legend at 0x20e767aadd8>"
      ]
     },
     "execution_count": 39,
     "metadata": {},
     "output_type": "execute_result"
    },
    {
     "data": {
      "image/png": "[encoded data removed]",
      "text/plain": [
       "<Figure size 720x360 with 1 Axes>"
      ]
     },
     "metadata": {},
     "output_type": "display_data"
    }
   ],
   "source": [
    "d=3\n",
    "def messageoverheadPOD(T, N):\n",
    "    return 2*d\n",
    "def messageoverheadJSQ(T, N):\n",
    "    return 2*N\n",
    "def messageoverheadJBT(T, N):\n",
    "    return 1 + (N+2*d)/T\n",
    "Time = np.arange(1, 10000, 500)\n",
    "POD = [messageoverheadPOD (T, d) for T in Time]\n",
    "JSQ = [messageoverheadJSQ (T, N) for T in Time]\n",
    "JBT = [messageoverheadJBT (T, N) for T in Time]\n",
    "plt.figure(figsize=(10,5))\n",
    "plt.plot(Time, POD, label = 'POD-3', marker='D', ls='--', ms=4.5)\n",
    "plt.plot(Time, JSQ, label = 'JSQ', marker='o', ls='--', ms=4.5)\n",
    "plt.plot(Time, JBT, label = 'JBT-3',  marker='*', ls='--', ms=3.5)\n",
    "plt.xlabel('Time Slots')\n",
    "plt.ylabel('Number of messages per task')\n",
    "plt.title('Message overhead')\n",
    "plt.legend()"
   ]
  },
  {
   "cell_type": "markdown",
   "metadata": {},
   "source": [
    "Mean Message per task calculated for each value of rhos in system that we have simulated"
   ]
  },
  {
   "cell_type": "code",
   "execution_count": 26,
   "metadata": {
    "scrolled": true
   },
   "outputs": [
    {
     "data": {
      "image/png": "[encoded data removed]",
      "text/plain": [
       "<Figure size 720x360 with 1 Axes>"
      ]
     },
     "metadata": {},
     "output_type": "display_data"
    }
   ],
   "source": [
    "#plotting Graphs\n",
    "sns.set_style(\"darkgrid\")\n",
    "plt.figure(figsize=(10,5))\n",
    "\n",
    "#listPOD = sorted(Dp.items())\n",
    "d=3\n",
    "yPOD=[0]*len(rhos)\n",
    "for i in range(len(rhos)):\n",
    "    yPOD[i]=2*d\n",
    "plt.plot(rhos, yPOD, label = \"POD\", marker='D', ls='--', ms=4.5)\n",
    "\n",
    "#listJSQ = sorted(Ds.items())\n",
    "yJSQ=[0]*len(rhos)\n",
    "for i in range(len(rhos)):\n",
    "    yJSQ[i]=2*N\n",
    "plt.plot(rhos, yJSQ, label = \"JSQ\", marker='o', ls='--', ms=4.5)\n",
    "\n",
    "listJBT = sorted(Mb.items())\n",
    "xJBT, yJBT = zip(*listJBT)\n",
    "plt.plot(xJBT, yJBT, label = \"JBT-3\", marker='*', ls='--', ms=3.5)\n",
    "\n",
    "plt.xlabel(\"\\u03C1\")\n",
    "plt.ylabel(\"Mean number of Messages per task\")\n",
    "plt.title(\"Message Overhead\")\n",
    "plt.legend()\n",
    "plt.show()"
   ]
  },
  {
   "cell_type": "markdown",
   "metadata": {},
   "source": [
    "Plotting Mean Delay of JSQ and New Algorithm JSWTQ "
   ]
  },
  {
   "cell_type": "code",
   "execution_count": 32,
   "metadata": {},
   "outputs": [
    {
     "data": {
      "image/png": "[encoded data removed]",
      "text/plain": [
       "<Figure size 720x360 with 1 Axes>"
      ]
     },
     "metadata": {},
     "output_type": "display_data"
    }
   ],
   "source": [
    "#plotting Graphs\n",
    "sns.set_style(\"darkgrid\")\n",
    "plt.figure(figsize=(10,5))\n",
    "\n",
    "listJSQ = sorted(Ds.items())\n",
    "xJSQ, yJSQ = zip(*listJSQ)\n",
    "plt.plot(xJSQ, yJSQ, label = \"JSQ\", marker='o', ls='--', ms=4.5)\n",
    "\n",
    "listJSWTQ = sorted(Dj.items())\n",
    "xJSWTQ, yJSWTQ = zip(*listJSWTQ)\n",
    "plt.plot(xJSWTQ, yJSWTQ, label = \"JSWTQ\", marker='o', ls='--', ms=4.5)\n",
    "\n",
    "plt.xlabel(\"\\u03C1\")\n",
    "plt.ylabel(\"E[D]\")\n",
    "plt.title(\"Mean Delay\")\n",
    "plt.legend()\n",
    "plt.show()"
   ]
  },
  {
   "cell_type": "markdown",
   "metadata": {},
   "source": [
    "Message Overhead comparision of JSQ and New Algorithm "
   ]
  },
  {
   "cell_type": "code",
   "execution_count": 24,
   "metadata": {},
   "outputs": [
    {
     "data": {
      "image/png": "[encoded data removed]",
      "text/plain": [
       "<Figure size 720x360 with 1 Axes>"
      ]
     },
     "metadata": {},
     "output_type": "display_data"
    }
   ],
   "source": [
    "#plotting Graphs\n",
    "sns.set_style(\"darkgrid\")\n",
    "plt.figure(figsize=(10,5))\n",
    "\n",
    "yJSQ=[0]*len(rhos)\n",
    "for i in range(len(rhos)):\n",
    "    yJSQ[i]=2*N\n",
    "plt.plot(rhos, yJSQ, label = \"JSQ\", marker='o', ls='--', ms=4.5)\n",
    "\n",
    "yJSWTQ=[0]*len(rhos)\n",
    "for i in range(len(rhos)):\n",
    "    yJSWTQ[i]=2*N\n",
    "plt.plot(rhos, yJSWTQ, label = \"JSWTQ\", marker='.', ls='--', ms=4.5)\n",
    "\n",
    "plt.xlabel(\"\\u03C1\")\n",
    "plt.ylabel(\"Mean number of Messages per task\")\n",
    "plt.title(\"Message Overhead\")\n",
    "plt.legend()\n",
    "plt.show()"
   ]
  }
 ],
 "metadata": {
  "kernelspec": {
   "display_name": "Python 3",
   "language": "python",
   "name": "python3"
  },
  "language_info": {
   "codemirror_mode": {
    "name": "ipython",
    "version": 3
   },
   "file_extension": ".py",
   "mimetype": "text/x-python",
   "name": "python",
   "nbconvert_exporter": "python",
   "pygments_lexer": "ipython3",
   "version": "3.7.3"
  }
 },
 "nbformat": 4,
 "nbformat_minor": 2
}
